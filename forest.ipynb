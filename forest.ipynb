{
 "cells": [
  {
   "cell_type": "code",
   "execution_count": 1,
   "id": "59fc2144-7854-436b-91b8-3ce88b31be23",
   "metadata": {},
   "outputs": [],
   "source": [
    "import pandas as pd\n",
    "import matplotlib.pyplot as plt"
   ]
  },
  {
   "cell_type": "code",
   "execution_count": 1,
   "id": "be7f934f-ba45-42f2-90b0-bb9be3a54a54",
   "metadata": {},
   "outputs": [],
   "source": [
    "#df = pd.read_csv('usable_sp2019.csv', index_col=0)"
   ]
  },
  {
   "cell_type": "code",
   "execution_count": 15,
   "id": "ba00f48d-46e3-4788-bba9-9b4b81df7507",
   "metadata": {},
   "outputs": [],
   "source": [
    "# predictors\n",
    "predictors = [\"Close\", \"Open\", \"High\", \"Low\", \"Prev 1\", \"Prev 2\",\"Prev 3\",\"Prev 4\",\"Prev 5\",\"Prev 6\",\"Prev 7\",\n",
    "              \"Prev 8\",\"Prev 9\",\"Prev 10\"]"
   ]
  },
  {
   "cell_type": "code",
   "execution_count": 21,
   "id": "c35f8993-13aa-4771-921a-ac2b2ad06e66",
   "metadata": {},
   "outputs": [],
   "source": [
    "import pickle"
   ]
  },
  {
   "cell_type": "code",
   "execution_count": 2,
   "id": "87bec4fc-7b26-4b5b-a47b-562bad026f7d",
   "metadata": {},
   "outputs": [],
   "source": [
    "#filename = 'base_tree.sav'"
   ]
  },
  {
   "cell_type": "code",
   "execution_count": 3,
   "id": "8d2259f4-bc10-454b-99f7-2656318e70b3",
   "metadata": {},
   "outputs": [],
   "source": [
    "# change model threshold\n",
    "#model = pickle.load(open(filename, 'rb'))"
   ]
  },
  {
   "cell_type": "code",
   "execution_count": 40,
   "id": "820b2a17-4fe9-4b5a-a642-ae713a881a0e",
   "metadata": {},
   "outputs": [],
   "source": [
    "# train model\n",
    "from sklearn.ensemble import RandomForestClassifier\n",
    "\n",
    "def train_model(train, predictors, nest=1000, minsamp=50):\n",
    "    model = RandomForestClassifier(n_estimators=nest, min_samples_split=minsamp, random_state=1)\n",
    "    model.fit(train[predictors], train[\"Target\"])\n",
    "    return model "
   ]
  },
  {
   "cell_type": "code",
   "execution_count": 41,
   "id": "20b13235-4b40-4df3-bef6-60b8b8b5f551",
   "metadata": {},
   "outputs": [],
   "source": [
    "# predict with model with customizable threshold\n",
    "def predict(test, predictors, model, threshold=0.5):\n",
    "    preds = model.predict_proba(test[predictors])[:,1]\n",
    "    preds[preds >= threshold] = 1\n",
    "    preds[preds < threshold] = 0\n",
    "    preds = pd.Series(preds, index=test.index, name=\"Predictions\")\n",
    "    combined = pd.concat([test[\"Target\"], preds], axis=1)\n",
    "    return combined"
   ]
  },
  {
   "cell_type": "code",
   "execution_count": 52,
   "id": "ac58213d-8895-48d3-843b-ab055e95c68f",
   "metadata": {},
   "outputs": [],
   "source": [
    "# backtest model\n",
    "from sklearn.metrics import precision_score\n",
    "\n",
    "def backtest(model, predictors, test, threshold=0.5):\n",
    "    preds = predict(test, predictors, model, threshold)\n",
    "    combined = pd.concat([test[\"Target\"], preds], axis=1)\n",
    "    print(\"Accuracy: \", precision_score(preds[\"Target\"], preds[\"Predictions\"]))\n",
    "    print(\"Test distribution: \")\n",
    "    print(preds[\"Target\"].value_counts() / preds.shape[0])\n",
    "    return combined"
   ]
  },
  {
   "cell_type": "code",
   "execution_count": 59,
   "id": "cd0e988c-a517-4378-a572-ebfeac23df3f",
   "metadata": {},
   "outputs": [],
   "source": [
    "# split train and test data\n",
    "def split_train_test(df, frac=0.8):\n",
    "    train = df.sample(frac=frac)\n",
    "    test = df.drop(train.index)\n",
    "    train = train.reset_index()\n",
    "    test = test.reset_index()\n",
    "    del train['index']\n",
    "    del test['index']\n",
    "    return train, test"
   ]
  }
 ],
 "metadata": {
  "kernelspec": {
   "display_name": "Python 3 (ipykernel)",
   "language": "python",
   "name": "python3"
  },
  "language_info": {
   "codemirror_mode": {
    "name": "ipython",
    "version": 3
   },
   "file_extension": ".py",
   "mimetype": "text/x-python",
   "name": "python",
   "nbconvert_exporter": "python",
   "pygments_lexer": "ipython3",
   "version": "3.10.9"
  }
 },
 "nbformat": 4,
 "nbformat_minor": 5
}
