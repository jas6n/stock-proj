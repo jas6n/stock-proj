{
 "cells": [
  {
   "cell_type": "code",
   "execution_count": 1,
   "id": "90d0670c-5a61-4df2-9840-6f10cc2a3ad0",
   "metadata": {},
   "outputs": [],
   "source": [
    "from ipynb.fs.full.datagetter import *\n",
    "from ipynb.fs.full.forest import predict, backtest"
   ]
  },
  {
   "cell_type": "code",
   "execution_count": 35,
   "id": "eef36ae3-2e8e-44c7-b125-e41c86008ba7",
   "metadata": {},
   "outputs": [],
   "source": [
    "def acquire_predictors(symbol, length=10, increment=60):\n",
    "    stop_time = datetime.datetime.now() + datetime.timedelta(minutes=length)\n",
    "    s = get_data(symbol, stop_time, 60)\n",
    "    s = s.reset_index()\n",
    "    del s[s.columns[0]]\n",
    "    del s['Change']\n",
    "    del s['Percent']\n",
    "    del s['Symbol']\n",
    "    del s['Time']\n",
    "    s = s.T\n",
    "    # predict with model\n",
    "    # print prediction"
   ]
  },
  {
   "cell_type": "code",
   "execution_count": 36,
   "id": "ebcddf2d-d6a9-42b2-8e1d-b3d20f8a6cf2",
   "metadata": {},
   "outputs": [
    {
     "data": {
      "text/html": [
       "<div>\n",
       "<style scoped>\n",
       "    .dataframe tbody tr th:only-of-type {\n",
       "        vertical-align: middle;\n",
       "    }\n",
       "\n",
       "    .dataframe tbody tr th {\n",
       "        vertical-align: top;\n",
       "    }\n",
       "\n",
       "    .dataframe thead th {\n",
       "        text-align: right;\n",
       "    }\n",
       "</style>\n",
       "<table border=\"1\" class=\"dataframe\">\n",
       "  <thead>\n",
       "    <tr style=\"text-align: right;\">\n",
       "      <th></th>\n",
       "      <th>0</th>\n",
       "      <th>1</th>\n",
       "      <th>2</th>\n",
       "      <th>3</th>\n",
       "      <th>4</th>\n",
       "      <th>5</th>\n",
       "      <th>6</th>\n",
       "      <th>7</th>\n",
       "      <th>8</th>\n",
       "      <th>9</th>\n",
       "      <th>10</th>\n",
       "    </tr>\n",
       "  </thead>\n",
       "  <tbody>\n",
       "    <tr>\n",
       "      <th>Price</th>\n",
       "      <td>179.16</td>\n",
       "      <td>179.16</td>\n",
       "      <td>179.17</td>\n",
       "      <td>179.22</td>\n",
       "      <td>179.21</td>\n",
       "      <td>179.21</td>\n",
       "      <td>179.17</td>\n",
       "      <td>179.13</td>\n",
       "      <td>179.13</td>\n",
       "      <td>179.13</td>\n",
       "      <td>179.14</td>\n",
       "    </tr>\n",
       "  </tbody>\n",
       "</table>\n",
       "</div>"
      ],
      "text/plain": [
       "           0       1       2       3       4       5       6       7       8   \\\n",
       "Price  179.16  179.16  179.17  179.22  179.21  179.21  179.17  179.13  179.13   \n",
       "\n",
       "           9       10  \n",
       "Price  179.13  179.14  "
      ]
     },
     "execution_count": 36,
     "metadata": {},
     "output_type": "execute_result"
    }
   ],
   "source": [
    "a = test_model('AAPL')\n",
    "a"
   ]
  },
  {
   "cell_type": "code",
   "execution_count": 43,
   "id": "1bf5acb9-51dc-4f37-b1fc-89f1dc2cfab5",
   "metadata": {},
   "outputs": [
    {
     "name": "stdin",
     "output_type": "stream",
     "text": [
      "Enter value 1:  1\n",
      "Enter value 2:  2\n",
      "Enter value 3:  3\n",
      "Enter value 4:  4\n",
      "Enter value 5:  5\n",
      "Enter value 6:  6\n",
      "Enter value 7:  7\n",
      "Enter value 8:  8\n",
      "Enter value 9:  9\n",
      "Enter value 10:  0\n"
     ]
    },
    {
     "name": "stdout",
     "output_type": "stream",
     "text": [
      "[1, 2, 3, 4, 5, 6, 7, 8, 9, 0]\n"
     ]
    },
    {
     "name": "stdin",
     "output_type": "stream",
     "text": [
      "Enter value:  5\n"
     ]
    },
    {
     "name": "stdout",
     "output_type": "stream",
     "text": [
      "[2, 3, 4, 5, 6, 7, 8, 9, 0, 5]\n"
     ]
    },
    {
     "name": "stdin",
     "output_type": "stream",
     "text": [
      "Enter value:  6\n"
     ]
    },
    {
     "name": "stdout",
     "output_type": "stream",
     "text": [
      "[3, 4, 5, 6, 7, 8, 9, 0, 5, 6]\n"
     ]
    },
    {
     "name": "stdin",
     "output_type": "stream",
     "text": [
      "Enter value:  10\n"
     ]
    },
    {
     "name": "stdout",
     "output_type": "stream",
     "text": [
      "[4, 5, 6, 7, 8, 9, 0, 5, 6, 10]\n"
     ]
    },
    {
     "name": "stdin",
     "output_type": "stream",
     "text": [
      "Enter value:  -5\n"
     ]
    },
    {
     "name": "stdout",
     "output_type": "stream",
     "text": [
      "[5, 6, 7, 8, 9, 0, 5, 6, 10, -5]\n"
     ]
    }
   ],
   "source": [
    "# make predictions with user inputs\n",
    "preds = []\n",
    "for i in range(10):\n",
    "    a = int(input(f\"Enter value {i+1}: \"))\n",
    "    preds.append(a)\n",
    "print(preds)\n",
    "cont = True\n",
    "while cont:\n",
    "    a = int(input(f\"Enter value: \"))\n",
    "    preds.append(a)\n",
    "    preds.pop(0)\n",
    "    print(preds)\n",
    "    if a == -5:\n",
    "        cont = False\n",
    "        \n",
    "# take in 10 values, make prediction\n",
    "# take in another value, make prediction\n",
    "\n",
    "\n",
    "# continually store values until the user prompts for a prediction"
   ]
  },
  {
   "cell_type": "code",
   "execution_count": null,
   "id": "38edd0f3-b880-4e5a-b2a8-8bb99e52551c",
   "metadata": {},
   "outputs": [],
   "source": []
  }
 ],
 "metadata": {
  "kernelspec": {
   "display_name": "Python 3 (ipykernel)",
   "language": "python",
   "name": "python3"
  },
  "language_info": {
   "codemirror_mode": {
    "name": "ipython",
    "version": 3
   },
   "file_extension": ".py",
   "mimetype": "text/x-python",
   "name": "python",
   "nbconvert_exporter": "python",
   "pygments_lexer": "ipython3",
   "version": "3.10.9"
  }
 },
 "nbformat": 4,
 "nbformat_minor": 5
}
