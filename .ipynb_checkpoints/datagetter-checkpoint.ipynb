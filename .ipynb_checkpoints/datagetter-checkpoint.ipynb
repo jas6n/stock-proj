{
 "cells": [
  {
   "cell_type": "code",
   "execution_count": 1,
   "id": "001fc23c-b2b4-4063-9173-0a2d0266cf77",
   "metadata": {},
   "outputs": [],
   "source": [
    "import requests\n",
    "import datetime\n",
    "import time\n",
    "from bs4 import BeautifulSoup\n",
    "import json\n",
    "import pandas as pd"
   ]
  },
  {
   "cell_type": "code",
   "execution_count": 2,
   "id": "47115871-6a42-4589-a7a6-3bdf14efda5d",
   "metadata": {},
   "outputs": [],
   "source": [
    "def get_prices(symbol):\n",
    "\n",
    "    headers = {'User-Agent': 'Mozilla/5.0 (Macintosh; Intel Mac OS X 10_15_7) AppleWebKit/537.36 (KHTML, like Gecko) Chrome/111.0.0.0 Safari/537.36'}\n",
    "\n",
    "    url = f'https://finance.yahoo.com/quote/{symbol}'\n",
    "\n",
    "    r = requests.get(url, headers=headers)\n",
    "\n",
    "    soup = BeautifulSoup(r.text, 'html.parser')\n",
    "\n",
    "    info_list = soup.find('div', {'class': 'D(ib) Mend(20px)'}).find_all('fin-streamer')\n",
    "    info_list = [i.text for i in info_list]\n",
    "    now = datetime.datetime.now()\n",
    "    current_time = now.strftime(\"%H:%M:%S\")\n",
    "    stock = {\n",
    "        'Symbol': [symbol],\n",
    "        'Price': [info_list[0]],\n",
    "        'Change': [info_list[1]],\n",
    "        'Percent': [info_list[2][1:len(info_list[2]) - 2]],\n",
    "        'Time': [current_time]\n",
    "    }\n",
    "    stock = pd.DataFrame.from_dict(stock)\n",
    "    \n",
    "    return stock"
   ]
  },
  {
   "cell_type": "code",
   "execution_count": 7,
   "id": "c51b869b-0598-4279-bbdd-16608d0d997a",
   "metadata": {},
   "outputs": [],
   "source": [
    "def get_data(stock, stop, step):\n",
    "    stock_data = get_prices(stock)\n",
    "    while datetime.datetime.now() < stop:\n",
    "        con = [stock_data, get_prices(stock)]\n",
    "        stock_data = pd.concat(con)\n",
    "        time.sleep(step)\n",
    "        \n",
    "    return stock_data"
   ]
  }
 ],
 "metadata": {
  "kernelspec": {
   "display_name": "Python 3 (ipykernel)",
   "language": "python",
   "name": "python3"
  },
  "language_info": {
   "codemirror_mode": {
    "name": "ipython",
    "version": 3
   },
   "file_extension": ".py",
   "mimetype": "text/x-python",
   "name": "python",
   "nbconvert_exporter": "python",
   "pygments_lexer": "ipython3",
   "version": "3.10.9"
  }
 },
 "nbformat": 4,
 "nbformat_minor": 5
}
