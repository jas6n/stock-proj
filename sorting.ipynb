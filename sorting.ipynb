{
 "cells": [
  {
   "cell_type": "code",
   "execution_count": 1,
   "id": "a9d1ddeb-a227-4254-a632-2e694182c12c",
   "metadata": {},
   "outputs": [],
   "source": [
    "import pandas as pd\n",
    "import numpy as np\n",
    "import random"
   ]
  },
  {
   "cell_type": "code",
   "execution_count": 156,
   "id": "909d844e-4807-45c2-ac99-a043166e4684",
   "metadata": {},
   "outputs": [],
   "source": [
    "# shift down\n",
    "df['Next'] = df['Close'].shift(-1)"
   ]
  },
  {
   "cell_type": "code",
   "execution_count": 254,
   "id": "edc97127-a28e-428c-8505-54106f11a375",
   "metadata": {},
   "outputs": [],
   "source": [
    "# show change\n",
    "prac['Change'] = prac['Next'] - prac['Close']"
   ]
  },
  {
   "cell_type": "code",
   "execution_count": 267,
   "id": "e96b94e9-022d-453e-b705-2b9b2fe61d5a",
   "metadata": {},
   "outputs": [],
   "source": [
    "# change to 1s and 0s\n",
    "prac['Direction'] = (prac['Next'] > prac['Close']).astype(int)"
   ]
  },
  {
   "cell_type": "code",
   "execution_count": 24,
   "id": "f6b15f46-a14c-47da-a8c4-b73a5e2e6659",
   "metadata": {},
   "outputs": [],
   "source": [
    "# previous 10 prices\n",
    "df['Prev 1'] = df['Close'].shift(1)\n",
    "df['Prev 2'] = df['Close'].shift(2)\n",
    "df['Prev 3'] = df['Close'].shift(3)\n",
    "df['Prev 4'] = df['Close'].shift(4)\n",
    "df['Prev 5'] = df['Close'].shift(5)\n",
    "df['Prev 6'] = df['Close'].shift(6)\n",
    "df['Prev 7'] = df['Close'].shift(7)\n",
    "df['Prev 8'] = df['Close'].shift(8)\n",
    "df['Prev 9'] = df['Close'].shift(9)\n",
    "df['Prev 10'] = df['Close'].shift(10)"
   ]
  },
  {
   "cell_type": "code",
   "execution_count": 80,
   "id": "b255101b-aa00-4935-b571-253961076483",
   "metadata": {},
   "outputs": [],
   "source": [
    "# drop all the times with the following day as a target\n",
    "for i in range(9, 97740, 1):\n",
    "    if prac.at[i, 'Minute'] == d:\n",
    "        prac.drop(i,axis=0,inplace=True)\n",
    "        prac.drop(i-1,axis=0,inplace=True)\n",
    "        prac.drop(i-2,axis=0,inplace=True)\n",
    "        prac.drop(i-3,axis=0,inplace=True)\n",
    "        prac.drop(i-4,axis=0,inplace=True)\n",
    "        prac.drop(i-5,axis=0,inplace=True)\n",
    "        prac.drop(i-6,axis=0,inplace=True)\n",
    "        prac.drop(i-7,axis=0,inplace=True)\n",
    "        prac.drop(i-8,axis=0,inplace=True)\n",
    "        prac.drop(i-9,axis=0,inplace=True)"
   ]
  },
  {
   "cell_type": "code",
   "execution_count": null,
   "id": "7e5cccd0-e5c3-460c-a299-2092ad2f75f4",
   "metadata": {},
   "outputs": [],
   "source": [
    "# split dataframe into multiple\n",
    "# add the column with the drop on it\n",
    "# compare it to get the proper target\n",
    "# combine all the dataframes back into one"
   ]
  },
  {
   "cell_type": "code",
   "execution_count": 2,
   "id": "62a76a1d-e7e7-45af-b74a-ec24e9316c03",
   "metadata": {},
   "outputs": [],
   "source": [
    "df = pd.read_csv('sp2019prev10.csv', index_col=0)"
   ]
  },
  {
   "cell_type": "code",
   "execution_count": 3,
   "id": "1964fe0e-84bb-4fdb-aca7-6f59a5aaed58",
   "metadata": {},
   "outputs": [],
   "source": [
    "# find indices of the last minute \n",
    "index = []\n",
    "for i in range(len(df)):\n",
    "    if df.at[i, 'Minute'] == df.at[0, 'Minute']:\n",
    "        index.append(i)"
   ]
  },
  {
   "cell_type": "code",
   "execution_count": 111,
   "id": "ee85f018-7db6-4b4e-aa7f-0cb53179058b",
   "metadata": {},
   "outputs": [],
   "source": [
    "# split dataframes into dfs of individual days\n",
    "dfs = []\n",
    "for i in range(len(index)):\n",
    "    if i < len(index) - 1:\n",
    "        newdf = df.iloc[index[i]: index[i+1]]\n",
    "        dfs.append(newdf)\n",
    "    else:\n",
    "        newdf = df.iloc[index[i]:]\n",
    "        dfs.append(newdf)"
   ]
  },
  {
   "cell_type": "code",
   "execution_count": 121,
   "id": "2801e2e9-9164-47e5-b6b4-b194272c4d65",
   "metadata": {},
   "outputs": [],
   "source": [
    "# find value after drop\n",
    "for test in dfs:\n",
    "    target_list = []\n",
    "    for i in range(len(test)):\n",
    "        change = 0\n",
    "        j = 0\n",
    "        while (change > -1) and (i+j < len(test) - 1):\n",
    "            change = test['Change'][i+j]\n",
    "            j += 1\n",
    "        target_list.append(test['Close'][i+j])\n",
    "    test['Target'] = target_list"
   ]
  },
  {
   "cell_type": "code",
   "execution_count": 124,
   "id": "88e82bfb-5193-4b65-9219-50e65f7f7dfe",
   "metadata": {},
   "outputs": [],
   "source": [
    "# concatenate each df\n",
    "final_df = pd.concat(dfs)"
   ]
  }
 ],
 "metadata": {
  "kernelspec": {
   "display_name": "Python 3 (ipykernel)",
   "language": "python",
   "name": "python3"
  },
  "language_info": {
   "codemirror_mode": {
    "name": "ipython",
    "version": 3
   },
   "file_extension": ".py",
   "mimetype": "text/x-python",
   "name": "python",
   "nbconvert_exporter": "python",
   "pygments_lexer": "ipython3",
   "version": "3.10.9"
  }
 },
 "nbformat": 4,
 "nbformat_minor": 5
}
