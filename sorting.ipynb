{
 "cells": [
  {
   "cell_type": "code",
   "execution_count": 201,
   "id": "a9d1ddeb-a227-4254-a632-2e694182c12c",
   "metadata": {},
   "outputs": [],
   "source": [
    "import pandas as pd\n",
    "import numpy as np\n",
    "import random"
   ]
  },
  {
   "cell_type": "code",
   "execution_count": 202,
   "id": "5cc6d46a-0299-43a4-9f4f-1f1eb75f77ea",
   "metadata": {},
   "outputs": [],
   "source": [
    "# Read the text file into a pandas DataFrame\n",
    "df = pd.read_csv('sp2019.txt', delimiter=',')\n",
    "# no missing data\n",
    "norm_df = df.copy()\n",
    "\n",
    "min_l = [min(norm_df['Open']), min(norm_df['High']), min(norm_df['Low']), min(norm_df['Close'])]\n",
    "max_l = [max(norm_df['Open']), max(norm_df['High']), max(norm_df['Low']), max(norm_df['Close'])]\n",
    "\n",
    "mins = min(min_l)\n",
    "maxs = max(max_l)\n",
    "\n",
    "norm_df['Open'] = (norm_df['Open'] - mins) / (maxs - mins)\n",
    "norm_df['High'] = (norm_df['High'] - mins) / (maxs - mins)\n",
    "norm_df['Low'] = (norm_df['Low'] - mins) / (maxs - mins)\n",
    "norm_df['Close'] = (norm_df['Close'] - mins) / (maxs - mins)"
   ]
  },
  {
   "cell_type": "code",
   "execution_count": 203,
   "id": "f25cf1f5-cfb2-45b6-90ed-7398b84cb536",
   "metadata": {},
   "outputs": [],
   "source": [
    "def create_x(X, leeway):\n",
    "\n",
    "    for i in range(97730): # change back to 97740\n",
    "        start = [norm_df['Open'][i]] * 360\n",
    "        if i % 390 == 0: # change back to 390\n",
    "            front = start\n",
    "        else:\n",
    "            front = X[len(X) - 1]\n",
    "        front = front[1:] + [norm_df['Open'][i]]\n",
    "        front = front[1:] + [norm_df['High'][i]]\n",
    "        front = front[1:] + [norm_df['Low'][i]]\n",
    "        front = front[1:] + [norm_df['Close'][i]]\n",
    "        \n",
    "        if i % 390 >= (390 - leeway) and i % 390 < 390:\n",
    "            pass\n",
    "        else:\n",
    "            X.append(front)\n",
    "    \n",
    "    return X"
   ]
  },
  {
   "cell_type": "code",
   "execution_count": 204,
   "id": "a5007b49-0109-41f8-8970-b44e0857b88f",
   "metadata": {},
   "outputs": [],
   "source": [
    "X = []\n",
    "X = create_x(X, 10)\n"
   ]
  },
  {
   "cell_type": "code",
   "execution_count": 205,
   "id": "a9621ec3-663a-40e4-8fea-b271114f41ee",
   "metadata": {},
   "outputs": [],
   "source": [
    "def create_y(X, leeway):\n",
    "    c = 0\n",
    "    for i in range(95230): \n",
    "        if i % 380 == 0:\n",
    "            c += 1\n",
    "        if norm_df['Close'][i + (c * leeway)] > X[i][359]:\n",
    "            Y.append(1)\n",
    "        else:\n",
    "            Y.append(0)\n",
    "    return Y\n",
    "\n"
   ]
  },
  {
   "cell_type": "code",
   "execution_count": 206,
   "id": "5bdc0758-ef2f-430f-8ef3-3e1dd7c58c38",
   "metadata": {},
   "outputs": [],
   "source": [
    "Y = []\n",
    "Y = create_y(X, 10)\n"
   ]
  },
  {
   "cell_type": "code",
   "execution_count": 207,
   "id": "834263f6-6b81-44df-b3fa-fd3b79c8e5f3",
   "metadata": {},
   "outputs": [],
   "source": [
    "from sklearn.model_selection import train_test_split"
   ]
  },
  {
   "cell_type": "code",
   "execution_count": 208,
   "id": "21dceda9-b11e-41fd-b8d5-3bfe44d1a4b0",
   "metadata": {},
   "outputs": [],
   "source": [
    "x_train, x_test, y_train, y_test = train_test_split(X, Y, test_size=0.2, random_state=25)"
   ]
  },
  {
   "cell_type": "code",
   "execution_count": 233,
   "id": "7170f6cf-92fd-4740-a956-266180ce8c4d",
   "metadata": {},
   "outputs": [],
   "source": [
    "# neural network\n",
    "\n",
    "import numpy as np\n",
    "import torch\n",
    "import torch.nn as nn\n",
    "import torch.optim as optim\n",
    "from torch.utils.data import random_split"
   ]
  },
  {
   "cell_type": "code",
   "execution_count": 238,
   "id": "9df19e33-4f28-486b-9510-0267daa987ba",
   "metadata": {},
   "outputs": [],
   "source": [
    "# x_train = torch.tensor(x_train, dtype=torch.float32)\n",
    "# x_test = torch.tensor(x_test, dtype=torch.float32)\n",
    "# y_train = torch.tensor(y_train, dtype=torch.float32).reshape(-1, 1)\n",
    "# y_test = torch.tensor(y_test, dtype=torch.float32).reshape(-1, 1)"
   ]
  },
  {
   "cell_type": "code",
   "execution_count": 242,
   "id": "c7b1df73-ee5a-4be1-b807-133e343d4dbf",
   "metadata": {},
   "outputs": [],
   "source": [
    "model = nn.Sequential(\n",
    "    nn.Linear(360, 50),\n",
    "    nn.ReLU(),\n",
    "    nn.Linear(50, 50),\n",
    "    nn.ReLU(),\n",
    "    nn.Linear(50, 1),\n",
    "    nn.Sigmoid()\n",
    ")"
   ]
  },
  {
   "cell_type": "code",
   "execution_count": 243,
   "id": "5ed17bf6-63ff-402d-974f-f7e79c952810",
   "metadata": {},
   "outputs": [],
   "source": [
    "loss_fn = nn.BCELoss()  # binary cross entropy\n",
    "optimizer = optim.Adam(model.parameters(), lr=0.001)"
   ]
  },
  {
   "cell_type": "code",
   "execution_count": 244,
   "id": "b84e4070-973f-41ff-9c3d-fc305cb0a594",
   "metadata": {},
   "outputs": [
    {
     "name": "stdout",
     "output_type": "stream",
     "text": [
      "Finished epoch 0, latest loss 0.6933661103248596\n",
      "Finished epoch 10, latest loss 0.6926724314689636\n",
      "Finished epoch 20, latest loss 0.6926428079605103\n",
      "Finished epoch 30, latest loss 0.6926275491714478\n",
      "Finished epoch 40, latest loss 0.6926018595695496\n",
      "Finished epoch 50, latest loss 0.6925836801528931\n",
      "Finished epoch 60, latest loss 0.6925727128982544\n",
      "Finished epoch 70, latest loss 0.6925670504570007\n",
      "Finished epoch 80, latest loss 0.6925612688064575\n",
      "Finished epoch 90, latest loss 0.6925559043884277\n"
     ]
    },
    {
     "name": "stderr",
     "output_type": "stream",
     "text": [
      "/var/folders/0l/v1_wl_j541d72dcjg8w5rtsh0000gn/T/ipykernel_32380/4172082317.py:10: UserWarning: To copy construct from a tensor, it is recommended to use sourceTensor.clone().detach() or sourceTensor.clone().detach().requires_grad_(True), rather than torch.tensor(sourceTensor).\n",
      "  Xbatch = torch.tensor(t, dtype=torch.float32)\n",
      "/var/folders/0l/v1_wl_j541d72dcjg8w5rtsh0000gn/T/ipykernel_32380/4172082317.py:15: UserWarning: To copy construct from a tensor, it is recommended to use sourceTensor.clone().detach() or sourceTensor.clone().detach().requires_grad_(True), rather than torch.tensor(sourceTensor).\n",
      "  Ybatch = torch.tensor(t, dtype=torch.float32).reshape(-1, 1)\n"
     ]
    }
   ],
   "source": [
    "n_epochs = 100\n",
    "batch_size = 10000\n",
    "random_batch = random.sample(range(len(x_train)), 1000)\n",
    "\n",
    " \n",
    "for epoch in range(n_epochs):\n",
    "    Xbatch = []\n",
    "    for i in random_batch:\n",
    "        Xbatch.append(x_train[i])\n",
    "    Xbatch = torch.tensor(t, dtype=torch.float32) \n",
    "    y_pred = model(Xbatch)\n",
    "    Ybatch = []\n",
    "    for i in random_batch:\n",
    "        Ybatch.append(y_train[i])\n",
    "    Ybatch = torch.tensor(t, dtype=torch.float32).reshape(-1, 1) \n",
    "    loss = loss_fn(y_pred, ybatch)\n",
    "    optimizer.zero_grad()\n",
    "    loss.backward()\n",
    "    optimizer.step()\n",
    "    if epoch % 10 == 0:\n",
    "        print(f'Finished epoch {epoch}, latest loss {loss}')\n"
   ]
  },
  {
   "cell_type": "code",
   "execution_count": 249,
   "id": "f36b59ff-ed31-4050-8dbf-891620d98a63",
   "metadata": {},
   "outputs": [
    {
     "name": "stderr",
     "output_type": "stream",
     "text": [
      "/var/folders/0l/v1_wl_j541d72dcjg8w5rtsh0000gn/T/ipykernel_32380/99305456.py:4: UserWarning: To copy construct from a tensor, it is recommended to use sourceTensor.clone().detach() or sourceTensor.clone().detach().requires_grad_(True), rather than torch.tensor(sourceTensor).\n",
      "  x = torch.tensor(t, dtype=torch.float32)\n"
     ]
    },
    {
     "name": "stdout",
     "output_type": "stream",
     "text": [
      "Accuracy:  52.77748608631734\n"
     ]
    }
   ],
   "source": [
    "counter = 0\n",
    "for i, x in enumerate(x_test):\n",
    "    pred = 0\n",
    "    x = torch.tensor(t, dtype=torch.float32)\n",
    "    if model(x)[0] > .5:\n",
    "        pred = 1\n",
    "    if pred == y_test[i]:\n",
    "        counter += 1\n",
    "        \n",
    "print(\"Accuracy: \", (counter / len(x_test)) * 100)\n",
    "        "
   ]
  }
 ],
 "metadata": {
  "kernelspec": {
   "display_name": "Python 3 (ipykernel)",
   "language": "python",
   "name": "python3"
  },
  "language_info": {
   "codemirror_mode": {
    "name": "ipython",
    "version": 3
   },
   "file_extension": ".py",
   "mimetype": "text/x-python",
   "name": "python",
   "nbconvert_exporter": "python",
   "pygments_lexer": "ipython3",
   "version": "3.10.9"
  }
 },
 "nbformat": 4,
 "nbformat_minor": 5
}
